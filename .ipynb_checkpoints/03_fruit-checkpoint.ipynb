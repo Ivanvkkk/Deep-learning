{
 "cells": [
  {
   "cell_type": "markdown",
   "metadata": {},
   "source": [
    "# Fruit classification\n",
    "\n",
    "## Apple, Banana, Orange\n",
    "\n",
    "## Train, Valid, Test\n",
    "\n",
    "## ~70%/15%/15%"
   ]
  },
  {
   "cell_type": "code",
   "execution_count": 1,
   "metadata": {},
   "outputs": [],
   "source": [
    "from keras.models import Sequential\n",
    "from keras.layers import Dense, Flatten\n",
    "from keras.preprocessing.image import ImageDataGenerator"
   ]
  },
  {
   "cell_type": "markdown",
   "metadata": {},
   "source": [
    "# 1, Training\n",
    "## Define base model\n",
    "\n",
    "Input shape 64x64x3, dense, dense, dense"
   ]
  },
  {
   "cell_type": "code",
   "execution_count": 2,
   "metadata": {},
   "outputs": [
    {
     "name": "stdout",
     "output_type": "stream",
     "text": [
      "Model: \"sequential\"\n",
      "_________________________________________________________________\n",
      "Layer (type)                 Output Shape              Param #   \n",
      "=================================================================\n",
      "flatten (Flatten)            (None, 12288)             0         \n",
      "_________________________________________________________________\n",
      "dense (Dense)                (None, 512)               6291968   \n",
      "_________________________________________________________________\n",
      "dense_1 (Dense)              (None, 512)               262656    \n",
      "_________________________________________________________________\n",
      "dense_2 (Dense)              (None, 3)                 1539      \n",
      "=================================================================\n",
      "Total params: 6,556,163\n",
      "Trainable params: 6,556,163\n",
      "Non-trainable params: 0\n",
      "_________________________________________________________________\n"
     ]
    }
   ],
   "source": [
    "num_classes = 3\n",
    "\n",
    "model = Sequential([\n",
    "    Flatten(input_shape=(64, 64, 3)),\n",
    "    Dense(512, activation='relu', input_shape=(64,)),\n",
    "    Dense(512, activation='relu'),\n",
    "    Dense(num_classes, activation='softmax')\n",
    "])\n",
    "\n",
    "model.compile(optimizer='adam', loss='categorical_crossentropy', metrics=['acc'])\n",
    "model.summary()"
   ]
  },
  {
   "cell_type": "markdown",
   "metadata": {},
   "source": [
    "## Define train/valid directory and images (64x64)"
   ]
  },
  {
   "cell_type": "code",
   "execution_count": 3,
   "metadata": {},
   "outputs": [
    {
     "name": "stdout",
     "output_type": "stream",
     "text": [
      "Found 464 images belonging to 3 classes.\n",
      "Found 96 images belonging to 3 classes.\n"
     ]
    }
   ],
   "source": [
    "TRAINING_DIR = \"./train\"\n",
    "train_datagen = ImageDataGenerator(rescale=1.0/255)\n",
    "\n",
    "train_generator = train_datagen.flow_from_directory(TRAINING_DIR, \n",
    "                                                    batch_size=10, \n",
    "                                                    target_size=(64, 64))\n",
    "\n",
    "VALIDATION_DIR = \"./valid\"\n",
    "validation_datagen = ImageDataGenerator(rescale=1.0/255)\n",
    "\n",
    "validation_generator = validation_datagen.flow_from_directory(VALIDATION_DIR, \n",
    "                                                         batch_size=10, \n",
    "                                                         target_size=(64, 64))"
   ]
  },
  {
   "cell_type": "markdown",
   "metadata": {},
   "source": [
    "## Train and save the model"
   ]
  },
  {
   "cell_type": "code",
   "execution_count": null,
   "metadata": {},
   "outputs": [
    {
     "name": "stdout",
     "output_type": "stream",
     "text": [
      "Epoch 1/5\n",
      "47/47 [==============================] - 27s 528ms/step - loss: 8.4597 - acc: 0.3877 - val_loss: 0.4270 - val_acc: 0.8542\n",
      "Epoch 2/5\n",
      "47/47 [==============================] - 9s 192ms/step - loss: 0.6280 - acc: 0.7859 - val_loss: 0.4273 - val_acc: 0.8438\n",
      "Epoch 3/5\n",
      "47/47 [==============================] - 9s 194ms/step - loss: 0.4578 - acc: 0.8195 - val_loss: 0.3099 - val_acc: 0.9271\n",
      "Epoch 4/5\n",
      "47/47 [==============================] - 10s 203ms/step - loss: 0.3599 - acc: 0.8534 - val_loss: 0.2311 - val_acc: 0.9375\n",
      "Epoch 5/5\n",
      "32/47 [===================>..........] - ETA: 2s - loss: 0.3414 - acc: 0.8717"
     ]
    }
   ],
   "source": [
    "history = model.fit(train_generator,\n",
    "                    epochs=5,\n",
    "                    validation_data=validation_generator)\n",
    "model.save(\"fruit.h5\")"
   ]
  },
  {
   "cell_type": "markdown",
   "metadata": {},
   "source": [
    "## See the training accuracy/loss"
   ]
  },
  {
   "cell_type": "code",
   "execution_count": null,
   "metadata": {},
   "outputs": [],
   "source": [
    "import matplotlib.pyplot as plt\n",
    "import seaborn as sns\n",
    "\n",
    "print(history.history.keys())\n",
    "epochs=5\n",
    "\n",
    "val_acc = history.history['val_acc']\n",
    "val_loss = history.history['val_loss']\n",
    "acc = history.history['acc']\n",
    "loss = history.history['loss']\n",
    "\n",
    "plt.plot(range(epochs), acc, 'b*-', label = 'Training accuracy')\n",
    "plt.plot(range(epochs), val_acc, 'r', label = 'Validation accuracy')\n",
    "plt.title('Training and validation accuracy')\n",
    "plt.legend()"
   ]
  },
  {
   "cell_type": "code",
   "execution_count": null,
   "metadata": {},
   "outputs": [],
   "source": [
    "plt.plot(range(epochs), loss, 'b*-', label = 'Training loss')\n",
    "plt.plot(range(epochs), val_loss, 'r', label = 'Validation loss')\n",
    "plt.title('Training and validation loss')\n",
    "plt.legend()"
   ]
  },
  {
   "cell_type": "markdown",
   "metadata": {},
   "source": [
    "# 2, Inference\n",
    "\n",
    "## First, load the trained model, then image to predict"
   ]
  },
  {
   "cell_type": "code",
   "execution_count": null,
   "metadata": {},
   "outputs": [],
   "source": [
    "import matplotlib.pyplot as plt\n",
    "import matplotlib.image as mpimg\n",
    "from tensorflow.keras.preprocessing import image as image_utils\n",
    "from tensorflow.keras.applications.imagenet_utils import preprocess_input\n",
    "from tensorflow import keras\n",
    "\n",
    "model = keras.models.load_model('fruit.h5')\n",
    "\n",
    "image_path = './test/Apple/1.png'\n",
    "\n",
    "image = mpimg.imread(image_path)\n",
    "plt.imshow(image)\n",
    "\n",
    "def make_prediction(image_path):\n",
    "    image = image_utils.load_img(image_path, target_size=(64, 64))\n",
    "    image = image_utils.img_to_array(image)\n",
    "    image = image.reshape(1,64,64,3)\n",
    "    image = preprocess_input(image)\n",
    "    preds = model.predict(image)\n",
    "    return preds\n",
    "\n",
    "make_prediction('./test/Apple/1.png')"
   ]
  },
  {
   "cell_type": "markdown",
   "metadata": {},
   "source": [
    "## It's better to define the mapping for index/name"
   ]
  },
  {
   "cell_type": "code",
   "execution_count": null,
   "metadata": {},
   "outputs": [],
   "source": [
    "import numpy as np\n",
    "\n",
    "image_mapping = {0: 'Apple', 1: 'Banana', 2: 'Orange'}\n",
    "    \n",
    "print(image_mapping[np.argmax(make_prediction('./test/Apple/1.png'))])"
   ]
  },
  {
   "cell_type": "markdown",
   "metadata": {},
   "source": [
    "## Run the model inference for \"test\" dataset"
   ]
  },
  {
   "cell_type": "code",
   "execution_count": null,
   "metadata": {},
   "outputs": [],
   "source": [
    "test_datagen = ImageDataGenerator(rescale=1.0/255)\n",
    "test_it = test_datagen.flow_from_directory('./test/', \n",
    "                                       target_size=(64, 64), \n",
    "                                       batch_size=1, \n",
    "                                       shuffle=False,\n",
    "                                       class_mode=\"categorical\")\n",
    "\n",
    "pred_output = model.predict(test_it)\n",
    "print(pred_output)\n",
    "pred_output = np.argmax(pred_output, axis=1)\n",
    "print(pred_output)"
   ]
  },
  {
   "cell_type": "markdown",
   "metadata": {},
   "source": [
    "## See the classification report"
   ]
  },
  {
   "cell_type": "code",
   "execution_count": null,
   "metadata": {},
   "outputs": [],
   "source": [
    "from sklearn.metrics import classification_report, confusion_matrix\n",
    "print(classification_report(test_it.classes, pred_output))"
   ]
  },
  {
   "cell_type": "markdown",
   "metadata": {},
   "source": [
    "## See the confusion matrix"
   ]
  },
  {
   "cell_type": "code",
   "execution_count": null,
   "metadata": {},
   "outputs": [],
   "source": [
    "cf_matrix = confusion_matrix(test_it.classes, pred_output)\n",
    "\n",
    "plt.figure(figsize=(8,5))\n",
    "heatmap = sns.heatmap(cf_matrix, annot=True, fmt='d', color='blue')\n",
    "plt.xlabel('Predicted class')\n",
    "plt.ylabel('True class')\n",
    "plt.title('Confusion matrix of model')"
   ]
  },
  {
   "cell_type": "code",
   "execution_count": null,
   "metadata": {},
   "outputs": [],
   "source": []
  }
 ],
 "metadata": {
  "kernelspec": {
   "display_name": "Python 3",
   "language": "python",
   "name": "python3"
  },
  "language_info": {
   "codemirror_mode": {
    "name": "ipython",
    "version": 3
   },
   "file_extension": ".py",
   "mimetype": "text/x-python",
   "name": "python",
   "nbconvert_exporter": "python",
   "pygments_lexer": "ipython3",
   "version": "3.8.5"
  }
 },
 "nbformat": 4,
 "nbformat_minor": 2
}
